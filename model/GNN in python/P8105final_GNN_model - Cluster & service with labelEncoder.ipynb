{
 "cells": [
  {
   "cell_type": "code",
   "execution_count": 230,
   "id": "7b4c96ee",
   "metadata": {},
   "outputs": [],
   "source": [
    "import torch\n",
    "import torch.nn as nn\n",
    "import torch.nn.functional as F\n",
    "import torch_geometric.nn as pyg_nn\n",
    "import torch_geometric.utils as pyg_utils\n",
    "import time\n",
    "from datetime import datetime\n",
    "import networkx as nx\n",
    "import torch\n",
    "import torch.optim as optim\n",
    "import numpy as np\n",
    "from torch_geometric.datasets import TUDataset\n",
    "from torch_geometric.datasets import Planetoid\n",
    "from torch_geometric.data import DataLoader\n",
    "import torch_geometric.transforms as T\n",
    "from tensorboardX import SummaryWriter\n",
    "from sklearn.manifold import TSNE\n",
    "import matplotlib.pyplot as plt\n",
    "import os\n",
    "import copy\n",
    "import glob\n",
    "import shutil\n",
    "import pandas as pd\n",
    "import numpy as np\n",
    "from pandas.core.frame import DataFrame\n",
    "import torch\n",
    "from torch_scatter import scatter_add\n",
    "from torch_geometric.data import InMemoryDataset, Data, download_url, extract_zip"
   ]
  },
  {
   "cell_type": "code",
   "execution_count": 231,
   "id": "ed79a5e0",
   "metadata": {},
   "outputs": [
    {
     "data": {
      "text/plain": [
       "Data(edge_index=[2, 155066], num_items=1790, num_users=2196, x=[3986, 3986])"
      ]
     },
     "execution_count": 231,
     "metadata": {},
     "output_type": "execute_result"
    }
   ],
   "source": [
    "class MCDataset(InMemoryDataset):\n",
    "    def __init__(self, root,  transform=None, pre_transform=None):\n",
    "        #self.name = name\n",
    "        super(MCDataset, self).__init__(root, transform, pre_transform)\n",
    "\n",
    "        self.data, self.slices = torch.load(self.processed_paths[0])\n",
    "        \n",
    "    @property\n",
    "    def num_relations(self):\n",
    "        return self.data.edge_type.max().item() + 1\n",
    "\n",
    "    @property\n",
    "    def num_nodes(self):\n",
    "        return self.data.x.shape[0]\n",
    "\n",
    "    @property\n",
    "    def raw_file_names(self):\n",
    "        return ['onewaydata.csv','labelen.csv']\n",
    "\n",
    "    @property\n",
    "    def processed_file_names(self):\n",
    "        return 'data.pt'\n",
    "\n",
    "    def download(self):\n",
    "        \n",
    "        pass\n",
    "\n",
    "    def process(self):\n",
    "\n",
    "        train_csv = self.raw_paths\n",
    "        train_df, train_nums, lab = self.create_df(train_csv)\n",
    "        train_df['item_id'] = train_df['item_id'] + train_nums['user']\n",
    "\n",
    "        x = torch.eye(train_nums['node'], dtype=torch.long)\n",
    "        \n",
    "        # Prepare edges\n",
    "        edge_user = torch.tensor(train_df['user_id'].values)\n",
    "        edge_item = torch.tensor(train_df['item_id'].values)\n",
    "\n",
    "        edge_index = torch.stack((torch.cat((edge_user, edge_item), 0),\n",
    "                                  torch.cat((edge_item, edge_user), 0)), 0)\n",
    "        edge_index = edge_index.to(torch.long)\n",
    "\n",
    "        # Prepare data\n",
    "        data = Data(x=x, edge_index=edge_index)\n",
    "\n",
    "        data.num_users = torch.tensor(train_nums['user'])\n",
    "        data.num_items = torch.tensor(train_nums['item'])       \n",
    "        \n",
    "        data, slices = self.collate([data])\n",
    "        torch.save((data, slices), self.processed_paths[0])\n",
    "\n",
    "    def create_df(self, csv_path):\n",
    "        df = pd.read_csv(csv_path[0])\n",
    "        df = df.drop('Unnamed: 0', axis=1)\n",
    "\n",
    "        nums = {'user': df.max()['user_id'] + 1,\n",
    "                'item': df.max()['item_id'] + 1,\n",
    "                'node': df.max()['user_id'] + df.max()['item_id'] + 2,\n",
    "                'edge': len(df)}\n",
    "        return df, nums, lab\n",
    "\n",
    "\n",
    "    def get(self, idx):\n",
    "        data = torch.load(os.path.join(self.processed_dir, 'data.pt'))\n",
    "        return data[0]\n",
    "\n",
    "    def __repr__(self):\n",
    "        return '{}{}()'.format(self.name.upper(), self.__class__.__name__)\n",
    "\n",
    "\n",
    "if __name__ == '__main__':\n",
    "    device = torch.device('cuda' if torch.cuda.is_available() else 'cpu')\n",
    "    dataset = MCDataset(root='./data/cri_cluster_service')\n",
    "    data = dataset[0]\n",
    "    \n",
    "    data = data.to(device)\n",
    "data"
   ]
  },
  {
   "cell_type": "code",
   "execution_count": 232,
   "id": "0dec6bdb",
   "metadata": {},
   "outputs": [],
   "source": [
    "class Encoder(torch.nn.Module):\n",
    "    '''\n",
    "    Encoder : Graph Conv to get embeddings \n",
    "    Decoder : inner product \n",
    "    '''\n",
    "    \n",
    "    def __init__(self, in_channels, out_channels):\n",
    "        super(Encoder, self).__init__()\n",
    "        self.conv1 = pyg_nn.GCNConv(in_channels, 2 * out_channels, cached=True)\n",
    "        self.conv2 = pyg_nn.GCNConv(2 * out_channels, out_channels, cached=True)\n",
    "        self.dropout=0.5\n",
    "    def forward(self, x, edge_index):\n",
    "        x = F.relu(self.conv1(x, edge_index))\n",
    "        x = F.dropout(x, p=self.dropout, training=self.training)\n",
    "        return self.conv2(x, edge_index)\n",
    "\n",
    "def train(epoch):\n",
    "    model.train()\n",
    "    optimizer.zero_grad()\n",
    "    z = model.encode(x, train_pos_edge_index)\n",
    "    \n",
    "    loss = model.recon_loss(z, train_pos_edge_index)    # reconstruction loss \n",
    "    loss.backward()\n",
    "    optimizer.step()\n",
    "    \n",
    "    writer.add_scalar(\"loss\", loss.item(), epoch)\n",
    "\n",
    "\n",
    "\n",
    "def test(pos_edge_index, neg_edge_index):\n",
    "    model.eval()\n",
    "    with torch.no_grad():\n",
    "        z = model.encode(x, train_pos_edge_index)\n",
    "    return model.test(z, pos_edge_index, neg_edge_index)\n",
    "\n",
    "def pred(x,pred_dege_index,sigmoid=False):\n",
    "    model.eval()\n",
    "    with torch.no_grad():\n",
    "        pred_dege_index=pred_dege_index.to(device)\n",
    "        z = model.encode(x,train_pos_edge_index)\n",
    "        torch.save(z,'tensor.pt')\n",
    "        pred = (z[pred_dege_index[0]] * z[pred_dege_index[1]]).sum(dim=1)\n",
    "        \n",
    "        return torch.sigmoid(pred) if sigmoid else pred"
   ]
  },
  {
   "cell_type": "code",
   "execution_count": 233,
   "id": "b6ddc271",
   "metadata": {},
   "outputs": [
    {
     "name": "stdout",
     "output_type": "stream",
     "text": [
      "CUDA availability: True\n"
     ]
    }
   ],
   "source": [
    "writer = SummaryWriter(\"./log/\" + datetime.now().strftime(\"%Y%m%d-%H%M%S\"))\n",
    "channels = 16\n",
    "dev = torch.device('cuda' if torch.cuda.is_available() else 'cpu')\n",
    "print('CUDA availability:', torch.cuda.is_available())\n",
    "# encoder: written by us; decoder: default (inner product)\n",
    "model = pyg_nn.GAE(Encoder(len(data.x), channels)).to(dev)\n",
    "data.test_gt = data.test_idx = data.train_gt = data.train_idx = None\n",
    "\n",
    "# data = model.split_edges(data) # split_edges unavilable \n",
    "data = pyg_utils.train_test_split_edges(data, val_ratio=0.2, test_ratio=0.2)   # construct positive/negative edges (for negative sampling!)\n",
    "\n",
    "x, train_pos_edge_index = data.x.float().to(dev), data.train_pos_edge_index.to(dev) # float long\n",
    "\n",
    "optimizer = torch.optim.Adam(model.parameters(), lr=0.006)"
   ]
  },
  {
   "cell_type": "code",
   "execution_count": 234,
   "id": "e3960be5",
   "metadata": {
    "scrolled": true
   },
   "outputs": [
    {
     "name": "stdout",
     "output_type": "stream",
     "text": [
      "Epoch: 001, AUC: 0.8292\n",
      "Epoch: 002, AUC: 0.8370\n",
      "Epoch: 003, AUC: 0.8385\n",
      "Epoch: 004, AUC: 0.8388\n",
      "Epoch: 005, AUC: 0.8389\n",
      "Epoch: 006, AUC: 0.8390\n",
      "Epoch: 007, AUC: 0.8392\n",
      "Epoch: 008, AUC: 0.8406\n",
      "Epoch: 009, AUC: 0.8434\n",
      "Epoch: 010, AUC: 0.8465\n",
      "Epoch: 011, AUC: 0.8493\n",
      "Epoch: 012, AUC: 0.8516\n",
      "Epoch: 013, AUC: 0.8530\n",
      "Epoch: 014, AUC: 0.8536\n",
      "Epoch: 015, AUC: 0.8538\n",
      "Epoch: 016, AUC: 0.8540\n",
      "Epoch: 017, AUC: 0.8541\n",
      "Epoch: 018, AUC: 0.8541\n",
      "Epoch: 019, AUC: 0.8540\n",
      "Epoch: 020, AUC: 0.8539\n"
     ]
    }
   ],
   "source": [
    "# training and validation\n",
    "Auc = []\n",
    "for epoch in range(1, 21):\n",
    "    train(epoch)\n",
    "\n",
    "    auc= test(data.test_pos_edge_index, data.test_neg_edge_index)[0]\n",
    "    writer.add_scalar(\"AUC\", auc, epoch)\n",
    "    Auc.append(auc)\n",
    "    print('Epoch: {:03d}, AUC: {:.4f}'.format(epoch, auc))"
   ]
  },
  {
   "cell_type": "code",
   "execution_count": 235,
   "id": "0ec22f9e",
   "metadata": {},
   "outputs": [
    {
     "data": {
      "text/plain": [
       "0.8543507825091576"
      ]
     },
     "execution_count": 235,
     "metadata": {},
     "output_type": "execute_result"
    }
   ],
   "source": [
    "# testing\n",
    "z = model.encode(x, train_pos_edge_index)\n",
    "test_auc = model.test(z, data.val_pos_edge_index, data.val_neg_edge_index)[0]\n",
    "test_auc"
   ]
  },
  {
   "cell_type": "code",
   "execution_count": null,
   "id": "b9d68374",
   "metadata": {},
   "outputs": [],
   "source": [
    "y1=Auc\n",
    "x1=range(1,21)\n",
    "plt.plot(x1,y1,label='val_AUC',linewidth=3,color='r',\n",
    "markerfacecolor='blue',markersize=12)\n",
    "plt.xlabel('Epoch')\n",
    "plt.legend()\n",
    "#plt.savefig(\"val_auc.png\")\n",
    "plt.show()\n"
   ]
  },
  {
   "cell_type": "code",
   "execution_count": 253,
   "id": "a464014b",
   "metadata": {},
   "outputs": [
    {
     "data": {
      "text/plain": [
       "tensor(0.3872, device='cuda:0')"
      ]
     },
     "execution_count": 253,
     "metadata": {},
     "output_type": "execute_result"
    }
   ],
   "source": [
    "# save z\n",
    "pred(x=x,pred_dege_index=data.test_neg_edge_index)\n",
    "pred(x=x,pred_dege_index=data.test_neg_edge_index).mean()"
   ]
  },
  {
   "cell_type": "code",
   "execution_count": 254,
   "id": "00ddb41c",
   "metadata": {},
   "outputs": [
    {
     "data": {
      "text/plain": [
       "tensor(0.9340, device='cuda:0')"
      ]
     },
     "execution_count": 254,
     "metadata": {},
     "output_type": "execute_result"
    }
   ],
   "source": [
    "pred(x=x,pred_dege_index=data.test_pos_edge_index).mean()"
   ]
  },
  {
   "cell_type": "code",
   "execution_count": 248,
   "id": "47f9e33f",
   "metadata": {},
   "outputs": [
    {
     "data": {
      "text/plain": [
       "tensor([[-0.0682,  0.3922, -0.2613,  ..., -0.1434,  0.0611,  0.1198],\n",
       "        [-0.0282,  0.2125, -0.1399,  ..., -0.0726,  0.0261,  0.0592],\n",
       "        [-0.0312,  0.2248, -0.1487,  ..., -0.0788,  0.0273,  0.0646],\n",
       "        ...,\n",
       "        [-0.0326,  0.2281, -0.1507,  ..., -0.0842,  0.0354,  0.0719],\n",
       "        [-0.0157,  0.1382, -0.0890,  ..., -0.0564,  0.0183,  0.0409],\n",
       "        [ 0.0299,  0.0348, -0.0215,  ..., -0.0231,  0.0046,  0.0031]],\n",
       "       device='cuda:0')"
      ]
     },
     "execution_count": 248,
     "metadata": {},
     "output_type": "execute_result"
    }
   ],
   "source": [
    "z = torch.load('tensor.pt')\n",
    "z"
   ]
  },
  {
   "cell_type": "code",
   "execution_count": 247,
   "id": "1e4dd38b",
   "metadata": {},
   "outputs": [
    {
     "data": {
      "text/plain": [
       "tensor([[-0.0682,  0.3922, -0.2613,  ..., -0.1434,  0.0611,  0.1198],\n",
       "        [-0.0282,  0.2125, -0.1399,  ..., -0.0726,  0.0261,  0.0592],\n",
       "        [-0.0312,  0.2248, -0.1487,  ..., -0.0788,  0.0273,  0.0646],\n",
       "        ...,\n",
       "        [-0.0326,  0.2281, -0.1507,  ..., -0.0842,  0.0354,  0.0719],\n",
       "        [-0.0157,  0.1382, -0.0890,  ..., -0.0564,  0.0183,  0.0409],\n",
       "        [ 0.0299,  0.0348, -0.0215,  ..., -0.0231,  0.0046,  0.0031]],\n",
       "       device='cuda:0', grad_fn=<AddBackward0>)"
      ]
     },
     "execution_count": 247,
     "metadata": {},
     "output_type": "execute_result"
    }
   ],
   "source": [
    "model.encode(x, train_pos_edge_index)"
   ]
  },
  {
   "cell_type": "code",
   "execution_count": 252,
   "id": "3f983561",
   "metadata": {},
   "outputs": [
    {
     "data": {
      "text/plain": [
       "array([[-0.06824425,  0.392174  , -0.26132175, ..., -0.14340872,\n",
       "         0.06108829,  0.11977644],\n",
       "       [-0.02824281,  0.21247101, -0.13992754, ..., -0.072564  ,\n",
       "         0.02610571,  0.05924575],\n",
       "       [-0.03115176,  0.22480527, -0.14867544, ..., -0.07881824,\n",
       "         0.02732685,  0.06458895],\n",
       "       ...,\n",
       "       [-0.03264828,  0.22813232, -0.15069732, ..., -0.08419894,\n",
       "         0.03538143,  0.07187975],\n",
       "       [-0.0157146 ,  0.13817778, -0.0890188 , ..., -0.05636573,\n",
       "         0.01833604,  0.04087294],\n",
       "       [ 0.02994923,  0.03484719, -0.02148308, ..., -0.02311425,\n",
       "         0.00459817,  0.00305431]], dtype=float32)"
      ]
     },
     "execution_count": 252,
     "metadata": {},
     "output_type": "execute_result"
    }
   ],
   "source": [
    "np.loadtxt('zz_np', dtype=np.float32, delimiter=',')\n",
    "#np.savetxt(\"zz_np\", z.cpu().numpy(), delimiter=\",\")"
   ]
  },
  {
   "cell_type": "code",
   "execution_count": null,
   "id": "eba1b813",
   "metadata": {},
   "outputs": [],
   "source": []
  }
 ],
 "metadata": {
  "kernelspec": {
   "display_name": "Python 3 (ipykernel)",
   "language": "python",
   "name": "python3"
  },
  "language_info": {
   "codemirror_mode": {
    "name": "ipython",
    "version": 3
   },
   "file_extension": ".py",
   "mimetype": "text/x-python",
   "name": "python",
   "nbconvert_exporter": "python",
   "pygments_lexer": "ipython3",
   "version": "3.8.11"
  }
 },
 "nbformat": 4,
 "nbformat_minor": 5
}
